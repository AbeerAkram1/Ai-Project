{
 "cells": [
  {
   "cell_type": "code",
   "execution_count": 1,
   "id": "64f1797b-ce14-4181-82d8-0216fb17e327",
   "metadata": {},
   "outputs": [],
   "source": [
    "# Data analysis library\n",
    "import numpy as np # linear algebra\n",
    "import pandas as pd # data processing, CSV file I/O (e.g. pd.read_csv)\n",
    " \n",
    "    \n",
    "# Data visualization library\n",
    "import matplotlib.pyplot as plt\n",
    "import seaborn as sns\n",
    "import plotly.express as px\n",
    "\n",
    "import warnings\n",
    "warnings.filterwarnings(\"ignore\")"
   ]
  },
  {
   "cell_type": "code",
   "execution_count": 2,
   "id": "cd49b12e-6c50-4492-b76a-c95589166c40",
   "metadata": {},
   "outputs": [
    {
     "data": {
      "text/html": [
       "<div>\n",
       "<style scoped>\n",
       "    .dataframe tbody tr th:only-of-type {\n",
       "        vertical-align: middle;\n",
       "    }\n",
       "\n",
       "    .dataframe tbody tr th {\n",
       "        vertical-align: top;\n",
       "    }\n",
       "\n",
       "    .dataframe thead th {\n",
       "        text-align: right;\n",
       "    }\n",
       "</style>\n",
       "<table border=\"1\" class=\"dataframe\">\n",
       "  <thead>\n",
       "    <tr style=\"text-align: right;\">\n",
       "      <th></th>\n",
       "      <th>Poster</th>\n",
       "      <th>Title</th>\n",
       "      <th>Year</th>\n",
       "      <th>Certificate</th>\n",
       "      <th>Duration (min)</th>\n",
       "      <th>Genre</th>\n",
       "      <th>Rating</th>\n",
       "      <th>Metascore</th>\n",
       "      <th>Director</th>\n",
       "      <th>Cast</th>\n",
       "      <th>Votes</th>\n",
       "      <th>Description</th>\n",
       "      <th>Review Count</th>\n",
       "      <th>Review Title</th>\n",
       "      <th>Review</th>\n",
       "    </tr>\n",
       "  </thead>\n",
       "  <tbody>\n",
       "    <tr>\n",
       "      <th>0</th>\n",
       "      <td>https://m.media-amazon.com/images/M/MV5BYWRkZj...</td>\n",
       "      <td>The Idea of You</td>\n",
       "      <td>2023.0</td>\n",
       "      <td>R</td>\n",
       "      <td>115.0</td>\n",
       "      <td>Comedy, Drama, Romance</td>\n",
       "      <td>6.4</td>\n",
       "      <td>67.0</td>\n",
       "      <td>Michael Showalter</td>\n",
       "      <td>Anne Hathaway, Nicholas Galitzine, Ella Rubin,...</td>\n",
       "      <td>28,744</td>\n",
       "      <td>Solène, a 40-year-old single mom, begins an un...</td>\n",
       "      <td>166</td>\n",
       "      <td>Hypocrisy as an idea</td>\n",
       "      <td>This film, as well as the reaction to it, is a...</td>\n",
       "    </tr>\n",
       "    <tr>\n",
       "      <th>1</th>\n",
       "      <td>https://m.media-amazon.com/images/M/MV5BZGI4NT...</td>\n",
       "      <td>Kingdom of the Planet of the Apes</td>\n",
       "      <td>2023.0</td>\n",
       "      <td>PG-13</td>\n",
       "      <td>145.0</td>\n",
       "      <td>Action, Adventure, Sci-Fi</td>\n",
       "      <td>7.3</td>\n",
       "      <td>66.0</td>\n",
       "      <td>Wes Ball</td>\n",
       "      <td>Owen Teague, Freya Allan, Kevin Durand, Peter ...</td>\n",
       "      <td>22,248</td>\n",
       "      <td>Many years after the reign of Caesar, a young ...</td>\n",
       "      <td>183</td>\n",
       "      <td>A phenomenal start to another trilogy!</td>\n",
       "      <td>I'm a big fan of all the planet of the apes, a...</td>\n",
       "    </tr>\n",
       "  </tbody>\n",
       "</table>\n",
       "</div>"
      ],
      "text/plain": [
       "                                              Poster  \\\n",
       "0  https://m.media-amazon.com/images/M/MV5BYWRkZj...   \n",
       "1  https://m.media-amazon.com/images/M/MV5BZGI4NT...   \n",
       "\n",
       "                               Title    Year Certificate  Duration (min)  \\\n",
       "0                    The Idea of You  2023.0           R           115.0   \n",
       "1  Kingdom of the Planet of the Apes  2023.0       PG-13           145.0   \n",
       "\n",
       "                       Genre  Rating  Metascore           Director  \\\n",
       "0     Comedy, Drama, Romance     6.4       67.0  Michael Showalter   \n",
       "1  Action, Adventure, Sci-Fi     7.3       66.0           Wes Ball   \n",
       "\n",
       "                                                Cast   Votes  \\\n",
       "0  Anne Hathaway, Nicholas Galitzine, Ella Rubin,...  28,744   \n",
       "1  Owen Teague, Freya Allan, Kevin Durand, Peter ...  22,248   \n",
       "\n",
       "                                         Description Review Count  \\\n",
       "0  Solène, a 40-year-old single mom, begins an un...          166   \n",
       "1  Many years after the reign of Caesar, a young ...          183   \n",
       "\n",
       "                             Review Title  \\\n",
       "0                    Hypocrisy as an idea   \n",
       "1  A phenomenal start to another trilogy!   \n",
       "\n",
       "                                              Review  \n",
       "0  This film, as well as the reaction to it, is a...  \n",
       "1  I'm a big fan of all the planet of the apes, a...  "
      ]
     },
     "execution_count": 2,
     "metadata": {},
     "output_type": "execute_result"
    }
   ],
   "source": [
    "import pandas as pd\n",
    "\n",
    "# Now pandas (pd) is imported and defined\n",
    "file_path = r\"C:\\Users\\abeer\\Downloads\\New folder\\imdb-movies-dataset.csv\"\n",
    "df = pd.read_csv(file_path)\n",
    "df.head(2)"
   ]
  },
  {
   "cell_type": "code",
   "execution_count": 3,
   "id": "3eaf751e-3076-49d1-b15c-b5027852af5c",
   "metadata": {},
   "outputs": [
    {
     "data": {
      "text/plain": [
       "Poster             object\n",
       "Title              object\n",
       "Year              float64\n",
       "Certificate        object\n",
       "Duration (min)    float64\n",
       "Genre              object\n",
       "Rating            float64\n",
       "Metascore         float64\n",
       "Director           object\n",
       "Cast               object\n",
       "Votes              object\n",
       "Description        object\n",
       "Review Count       object\n",
       "Review Title       object\n",
       "Review             object\n",
       "dtype: object"
      ]
     },
     "execution_count": 3,
     "metadata": {},
     "output_type": "execute_result"
    }
   ],
   "source": [
    "df.dtypes"
   ]
  },
  {
   "cell_type": "code",
   "execution_count": 4,
   "id": "1ec806a7-8299-4998-9401-2e7f120fae6a",
   "metadata": {},
   "outputs": [],
   "source": [
    "df.dropna(inplace=True)\n",
    "df.dropna(inplace=True)"
   ]
  },
  {
   "cell_type": "code",
   "execution_count": null,
   "id": "2a551a55-5a6a-4308-b6d5-b147d45631fd",
   "metadata": {},
   "outputs": [],
   "source": []
  }
 ],
 "metadata": {
  "kernelspec": {
   "display_name": "Python 3 (ipykernel)",
   "language": "python",
   "name": "python3"
  },
  "language_info": {
   "codemirror_mode": {
    "name": "ipython",
    "version": 3
   },
   "file_extension": ".py",
   "mimetype": "text/x-python",
   "name": "python",
   "nbconvert_exporter": "python",
   "pygments_lexer": "ipython3",
   "version": "3.11.7"
  }
 },
 "nbformat": 4,
 "nbformat_minor": 5
}

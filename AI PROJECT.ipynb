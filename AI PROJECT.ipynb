{
 "cells": [
  {
   "cell_type": "code",
   "execution_count": 1,
   "id": "9461218e-634f-43c3-a33e-ad689cb0456e",
   "metadata": {},
   "outputs": [],
   "source": [
    "# Data analysis library\n",
    "import numpy as np # linear algebra\n",
    "import pandas as pd # data processing, CSV file I/O (e.g. pd.read_csv)\n",
    " \n",
    "    \n",
    "# Data visualization library\n",
    "import matplotlib.pyplot as plt\n",
    "import seaborn as sns\n",
    "import plotly.express as px\n",
    "\n",
    "import warnings\n",
    "warnings.filterwarnings(\"ignore\")"
   ]
  },
  {
   "cell_type": "code",
   "execution_count": 3,
   "id": "58b69f74-2884-480b-b336-1134774afe5c",
   "metadata": {},
   "outputs": [
    {
     "data": {
      "text/html": [
       "<div>\n",
       "<style scoped>\n",
       "    .dataframe tbody tr th:only-of-type {\n",
       "        vertical-align: middle;\n",
       "    }\n",
       "\n",
       "    .dataframe tbody tr th {\n",
       "        vertical-align: top;\n",
       "    }\n",
       "\n",
       "    .dataframe thead th {\n",
       "        text-align: right;\n",
       "    }\n",
       "</style>\n",
       "<table border=\"1\" class=\"dataframe\">\n",
       "  <thead>\n",
       "    <tr style=\"text-align: right;\">\n",
       "      <th></th>\n",
       "      <th>Poster</th>\n",
       "      <th>Title</th>\n",
       "      <th>Year</th>\n",
       "      <th>Certificate</th>\n",
       "      <th>Duration (min)</th>\n",
       "      <th>Genre</th>\n",
       "      <th>Rating</th>\n",
       "      <th>Metascore</th>\n",
       "      <th>Director</th>\n",
       "      <th>Cast</th>\n",
       "      <th>Votes</th>\n",
       "      <th>Description</th>\n",
       "      <th>Review Count</th>\n",
       "      <th>Review Title</th>\n",
       "      <th>Review</th>\n",
       "    </tr>\n",
       "  </thead>\n",
       "  <tbody>\n",
       "    <tr>\n",
       "      <th>0</th>\n",
       "      <td>https://m.media-amazon.com/images/M/MV5BYWRkZj...</td>\n",
       "      <td>The Idea of You</td>\n",
       "      <td>2023.0</td>\n",
       "      <td>R</td>\n",
       "      <td>115.0</td>\n",
       "      <td>Comedy, Drama, Romance</td>\n",
       "      <td>6.4</td>\n",
       "      <td>67.0</td>\n",
       "      <td>Michael Showalter</td>\n",
       "      <td>Anne Hathaway, Nicholas Galitzine, Ella Rubin,...</td>\n",
       "      <td>28,744</td>\n",
       "      <td>Solène, a 40-year-old single mom, begins an un...</td>\n",
       "      <td>166</td>\n",
       "      <td>Hypocrisy as an idea</td>\n",
       "      <td>This film, as well as the reaction to it, is a...</td>\n",
       "    </tr>\n",
       "    <tr>\n",
       "      <th>1</th>\n",
       "      <td>https://m.media-amazon.com/images/M/MV5BZGI4NT...</td>\n",
       "      <td>Kingdom of the Planet of the Apes</td>\n",
       "      <td>2023.0</td>\n",
       "      <td>PG-13</td>\n",
       "      <td>145.0</td>\n",
       "      <td>Action, Adventure, Sci-Fi</td>\n",
       "      <td>7.3</td>\n",
       "      <td>66.0</td>\n",
       "      <td>Wes Ball</td>\n",
       "      <td>Owen Teague, Freya Allan, Kevin Durand, Peter ...</td>\n",
       "      <td>22,248</td>\n",
       "      <td>Many years after the reign of Caesar, a young ...</td>\n",
       "      <td>183</td>\n",
       "      <td>A phenomenal start to another trilogy!</td>\n",
       "      <td>I'm a big fan of all the planet of the apes, a...</td>\n",
       "    </tr>\n",
       "  </tbody>\n",
       "</table>\n",
       "</div>"
      ],
      "text/plain": [
       "                                              Poster  \\\n",
       "0  https://m.media-amazon.com/images/M/MV5BYWRkZj...   \n",
       "1  https://m.media-amazon.com/images/M/MV5BZGI4NT...   \n",
       "\n",
       "                               Title    Year Certificate  Duration (min)  \\\n",
       "0                    The Idea of You  2023.0           R           115.0   \n",
       "1  Kingdom of the Planet of the Apes  2023.0       PG-13           145.0   \n",
       "\n",
       "                       Genre  Rating  Metascore           Director  \\\n",
       "0     Comedy, Drama, Romance     6.4       67.0  Michael Showalter   \n",
       "1  Action, Adventure, Sci-Fi     7.3       66.0           Wes Ball   \n",
       "\n",
       "                                                Cast   Votes  \\\n",
       "0  Anne Hathaway, Nicholas Galitzine, Ella Rubin,...  28,744   \n",
       "1  Owen Teague, Freya Allan, Kevin Durand, Peter ...  22,248   \n",
       "\n",
       "                                         Description Review Count  \\\n",
       "0  Solène, a 40-year-old single mom, begins an un...          166   \n",
       "1  Many years after the reign of Caesar, a young ...          183   \n",
       "\n",
       "                             Review Title  \\\n",
       "0                    Hypocrisy as an idea   \n",
       "1  A phenomenal start to another trilogy!   \n",
       "\n",
       "                                              Review  \n",
       "0  This film, as well as the reaction to it, is a...  \n",
       "1  I'm a big fan of all the planet of the apes, a...  "
      ]
     },
     "execution_count": 3,
     "metadata": {},
     "output_type": "execute_result"
    }
   ],
   "source": [
    "import pandas as pd\n",
    "\n",
    "# Now pandas (pd) is imported and defined\n",
    "file_path = r\"C:\\Users\\abeer\\Downloads\\New folder\\imdb-movies-dataset.csv\"\n",
    "df = pd.read_csv(file_path)\n",
    "df.head(2)"
   ]
  },
  {
   "cell_type": "code",
   "execution_count": 4,
   "id": "611cc54c-59f7-4635-9355-12adfd6d2fe4",
   "metadata": {},
   "outputs": [
    {
     "data": {
      "text/plain": [
       "Poster             object\n",
       "Title              object\n",
       "Year              float64\n",
       "Certificate        object\n",
       "Duration (min)    float64\n",
       "Genre              object\n",
       "Rating            float64\n",
       "Metascore         float64\n",
       "Director           object\n",
       "Cast               object\n",
       "Votes              object\n",
       "Description        object\n",
       "Review Count       object\n",
       "Review Title       object\n",
       "Review             object\n",
       "dtype: object"
      ]
     },
     "execution_count": 4,
     "metadata": {},
     "output_type": "execute_result"
    }
   ],
   "source": [
    "df.dtypes"
   ]
  },
  {
   "cell_type": "code",
   "execution_count": 5,
   "id": "ef73d5e8-9ba2-45c1-971d-5ac779973bc5",
   "metadata": {},
   "outputs": [],
   "source": [
    "df.dropna(inplace=True)\n",
    "df.dropna(inplace=True)"
   ]
  },
  {
   "cell_type": "code",
   "execution_count": 6,
   "id": "6add9cf1-ca98-4b70-a538-fb292e9eb229",
   "metadata": {},
   "outputs": [],
   "source": [
    "df['Review Count']=df['Review Count'].str.replace(',','').astype(int)\n",
    "df['Votes']=df['Votes'].str.replace(',','').astype(int)\n",
    "df['Year']=df['Year'].astype(int)"
   ]
  },
  {
   "cell_type": "code",
   "execution_count": 7,
   "id": "fb9d28a1-8db7-4cc4-b8a1-003482dcf2a3",
   "metadata": {},
   "outputs": [
    {
     "data": {
      "image/png": "[encoded data removed]",
      "text/plain": [
       "<Figure size 640x480 with 1 Axes>"
      ]
     },
     "metadata": {},
     "output_type": "display_data"
    }
   ],
   "source": [
    "import seaborn as sns\n",
    "import matplotlib.pyplot as plt\n",
    "\n",
    "# Your code continues below\n",
    "top_rating = df[['Rating', 'Title']].sort_values(by='Rating', ascending=False).head(10)\n",
    "sns.barplot(data=top_rating, y='Title', x='Rating')\n",
    "plt.title('TOP 10 RATING MOVIES')\n",
    "plt.show()"
   ]
  },
  {
   "cell_type": "code",
   "execution_count": 4,
   "id": "4e4ee917-2a08-49e6-bd36-38d01e07c157",
   "metadata": {},
   "outputs": [
    {
     "ename": "ModuleNotFoundError",
     "evalue": "No module named 'seaborn'",
     "output_type": "error",
     "traceback": [
      "\u001b[1;31m---------------------------------------------------------------------------\u001b[0m",
      "\u001b[1;31mModuleNotFoundError\u001b[0m                       Traceback (most recent call last)",
      "Cell \u001b[1;32mIn[4], line 1\u001b[0m\n\u001b[1;32m----> 1\u001b[0m \u001b[38;5;28;01mimport\u001b[39;00m \u001b[38;5;21;01mseaborn\u001b[39;00m \u001b[38;5;28;01mas\u001b[39;00m \u001b[38;5;21;01msns\u001b[39;00m\n\u001b[0;32m      2\u001b[0m \u001b[38;5;28;01mimport\u001b[39;00m \u001b[38;5;21;01mmatplotlib\u001b[39;00m\u001b[38;5;21;01m.\u001b[39;00m\u001b[38;5;21;01mpyplot\u001b[39;00m \u001b[38;5;28;01mas\u001b[39;00m \u001b[38;5;21;01mplt\u001b[39;00m\n\u001b[0;32m      3\u001b[0m \u001b[38;5;28;01mimport\u001b[39;00m \u001b[38;5;21;01mpandas\u001b[39;00m \u001b[38;5;28;01mas\u001b[39;00m \u001b[38;5;21;01mpd\u001b[39;00m\n",
      "\u001b[1;31mModuleNotFoundError\u001b[0m: No module named 'seaborn'"
     ]
    }
   ],
   "source": [
    "import seaborn as sns\n",
    "import matplotlib.pyplot as plt\n",
    "import pandas as pd\n",
    "\n",
    "# Sample data for demonstration (remove if you already have a DataFrame)\n",
    "data = {\n",
    "    'Title': ['Movie A', 'Movie B', 'Movie C', 'Movie D', 'Movie E', \n",
    "              'Movie F', 'Movie G', 'Movie H', 'Movie I', 'Movie J'],\n",
    "    'Votes': ['1000', '1500', '1200', '3000', '2500', \n",
    "              '500', '750', '1250', '2250', '1750']\n",
    "}\n",
    "\n",
    "df = pd.DataFrame(data)\n",
    "\n",
    "# Convert 'Votes' column to numeric, coercing errors to NaN\n",
    "df['Votes'] = pd.to_numeric(df['Votes'], errors='coerce')\n",
    "\n",
    "# Drop rows with NaN values in 'Votes' column\n",
    "df.dropna(subset=['Votes'], inplace=True)\n",
    "\n",
    "# Sort the DataFrame by 'Votes' and select top 10\n",
    "top_votes = df[['Votes', 'Title']].sort_values(ascending=False, by='Votes').head(10)\n",
    "\n",
    "# Plot\n",
    "plt.figure(figsize=(10, 6))\n",
    "sns.barplot(data=top_votes, x='Votes', y='Title')\n",
    "plt.title('Top 10 Highest Voted Movies')\n",
    "plt.show()\n"
   ]
  },
  {
   "cell_type": "code",
   "execution_count": 3,
   "id": "3bde9d7d",
   "metadata": {},
   "outputs": [
    {
     "ename": "ModuleNotFoundError",
     "evalue": "No module named 'pandas'",
     "output_type": "error",
     "traceback": [
      "\u001b[1;31m---------------------------------------------------------------------------\u001b[0m",
      "\u001b[1;31mModuleNotFoundError\u001b[0m                       Traceback (most recent call last)",
      "Cell \u001b[1;32mIn[3], line 1\u001b[0m\n\u001b[1;32m----> 1\u001b[0m \u001b[38;5;28;01mimport\u001b[39;00m \u001b[38;5;21;01mpandas\u001b[39;00m \u001b[38;5;28;01mas\u001b[39;00m \u001b[38;5;21;01mpd\u001b[39;00m\n\u001b[0;32m      2\u001b[0m \u001b[38;5;28;01mimport\u001b[39;00m \u001b[38;5;21;01mseaborn\u001b[39;00m \u001b[38;5;28;01mas\u001b[39;00m \u001b[38;5;21;01msns\u001b[39;00m\n\u001b[0;32m      3\u001b[0m \u001b[38;5;28;01mimport\u001b[39;00m \u001b[38;5;21;01mmatplotlib\u001b[39;00m\u001b[38;5;21;01m.\u001b[39;00m\u001b[38;5;21;01mpyplot\u001b[39;00m \u001b[38;5;28;01mas\u001b[39;00m \u001b[38;5;21;01mplt\u001b[39;00m\n",
      "\u001b[1;31mModuleNotFoundError\u001b[0m: No module named 'pandas'"
     ]
    }
   ],
   "source": [
    "import pandas as pd\n",
    "import seaborn as sns\n",
    "import matplotlib.pyplot as plt\n",
    "\n",
    "# Load data from CSV file\n",
    "df = pd.read_csv(r\"C:\\Users\\abeer\\Downloads\\New folder\\imdb-movies-dataset.csv\")\n",
    "\n",
    "# Sort DataFrame by 'Review Count' and select top 10\n",
    "most_review = df[['Review Count', 'Title']].sort_values(by='Review Count', ascending=False).head(10)\n",
    "\n",
    "# Ensure 'Review Count' is numeric (convert if necessary)\n",
    "most_review['Review Count'] = pd.to_numeric(most_review['Review Count'])\n",
    "\n",
    "# Plot with Seaborn\n",
    "plt.figure(figsize=(10, 6))\n",
    "sns.barplot(data=most_review, x='Review Count', y='Title')\n",
    "plt.title('TOP 10 HIGHEST REVIEW MOVIES')\n",
    "plt.xlabel('Review Count')\n",
    "plt.ylabel('Title')\n",
    "plt.xticks(rotation=45)\n",
    "plt.show()"
   ]
  },
  {
   "cell_type": "code",
   "execution_count": 1,
   "id": "2cfc1bb1",
   "metadata": {},
   "outputs": [
    {
     "ename": "NameError",
     "evalue": "name 'df' is not defined",
     "output_type": "error",
     "traceback": [
      "\u001b[1;31m---------------------------------------------------------------------------\u001b[0m",
      "\u001b[1;31mNameError\u001b[0m                                 Traceback (most recent call last)",
      "Cell \u001b[1;32mIn[1], line 1\u001b[0m\n\u001b[1;32m----> 1\u001b[0m year_most_release_movie\u001b[38;5;241m=\u001b[39m\u001b[43mdf\u001b[49m\u001b[38;5;241m.\u001b[39mgroupby([\u001b[38;5;124m'\u001b[39m\u001b[38;5;124mYear\u001b[39m\u001b[38;5;124m'\u001b[39m])[\u001b[38;5;124m'\u001b[39m\u001b[38;5;124mTitle\u001b[39m\u001b[38;5;124m'\u001b[39m]\u001b[38;5;241m.\u001b[39mcount()\u001b[38;5;241m.\u001b[39msort_values(ascending\u001b[38;5;241m=\u001b[39m\u001b[38;5;28;01mFalse\u001b[39;00m)\u001b[38;5;241m.\u001b[39mreset_index()\u001b[38;5;241m.\u001b[39mhead(\u001b[38;5;241m10\u001b[39m)\n\u001b[0;32m      2\u001b[0m year_most_release_movie\u001b[38;5;241m.\u001b[39mrename({\u001b[38;5;124m\"\u001b[39m\u001b[38;5;124mTitle\u001b[39m\u001b[38;5;124m\"\u001b[39m:\u001b[38;5;124m'\u001b[39m\u001b[38;5;124mCount movies\u001b[39m\u001b[38;5;124m'\u001b[39m} ,axis\u001b[38;5;241m=\u001b[39m\u001b[38;5;241m1\u001b[39m ,inplace\u001b[38;5;241m=\u001b[39m\u001b[38;5;28;01mTrue\u001b[39;00m)\n\u001b[0;32m      4\u001b[0m sns\u001b[38;5;241m.\u001b[39mbarplot(data\u001b[38;5;241m=\u001b[39myear_most_release_movie ,x\u001b[38;5;241m=\u001b[39m\u001b[38;5;124m'\u001b[39m\u001b[38;5;124mYear\u001b[39m\u001b[38;5;124m'\u001b[39m ,y\u001b[38;5;241m=\u001b[39m\u001b[38;5;124m'\u001b[39m\u001b[38;5;124mCount movies\u001b[39m\u001b[38;5;124m'\u001b[39m)\n",
      "\u001b[1;31mNameError\u001b[0m: name 'df' is not defined"
     ]
    }
   ],
   "source": [
    "year_most_release_movie=df.groupby(['Year'])['Title'].count().sort_values(ascending=False).reset_index().head(10)\n",
    "year_most_release_movie.rename({\"Title\":'Count movies'} ,axis=1 ,inplace=True)\n",
    "\n",
    "sns.barplot(data=year_most_release_movie ,x='Year' ,y='Count movies')\n",
    "plt.title('MOST RELEASED MOVIES IN YEAR')\n",
    "plt.show()"
   ]
  },
  {
   "cell_type": "code",
   "execution_count": 2,
   "id": "2a4e5524",
   "metadata": {},
   "outputs": [
    {
     "ename": "SyntaxError",
     "evalue": "incomplete input (817907317.py, line 7)",
     "output_type": "error",
     "traceback": [
      "\u001b[1;36m  Cell \u001b[1;32mIn[2], line 7\u001b[1;36m\u001b[0m\n\u001b[1;33m    plt.show(\u001b[0m\n\u001b[1;37m             ^\u001b[0m\n\u001b[1;31mSyntaxError\u001b[0m\u001b[1;31m:\u001b[0m incomplete input\n"
     ]
    }
   ],
   "source": [
    "highest_meatscore=df[['Metascore','Title']].sort_values(by='Metascore' ,ascending=False).head(25)\n",
    "\n",
    "plt.figure(figsize=(10 , 7))\n",
    "bar=sns.barplot(highest_meatscore ,x='Metascore' ,y='Title')\n",
    "plt.bar_label(bar.containers[0])\n",
    "plt.title('Movies with Highest Metascore')\n",
    "plt.show("
   ]
  },
  {
   "cell_type": "code",
   "execution_count": 1,
   "id": "3b0d1ac5",
   "metadata": {},
   "outputs": [
    {
     "ename": "NameError",
     "evalue": "name 'df' is not defined",
     "output_type": "error",
     "traceback": [
      "\u001b[1;31m---------------------------------------------------------------------------\u001b[0m",
      "\u001b[1;31mNameError\u001b[0m                                 Traceback (most recent call last)",
      "Cell \u001b[1;32mIn[1], line 1\u001b[0m\n\u001b[1;32m----> 1\u001b[0m genre\u001b[38;5;241m=\u001b[39m\u001b[43mdf\u001b[49m\u001b[38;5;241m.\u001b[39mpivot_table(index\u001b[38;5;241m=\u001b[39m\u001b[38;5;124m'\u001b[39m\u001b[38;5;124mGenre\u001b[39m\u001b[38;5;124m'\u001b[39m ,columns\u001b[38;5;241m=\u001b[39m\u001b[38;5;124m'\u001b[39m\u001b[38;5;124mYear\u001b[39m\u001b[38;5;124m'\u001b[39m ,values\u001b[38;5;241m=\u001b[39m\u001b[38;5;124m'\u001b[39m\u001b[38;5;124mRating\u001b[39m\u001b[38;5;124m'\u001b[39m)\u001b[38;5;241m.\u001b[39mfillna(\u001b[38;5;241m0\u001b[39m )\u001b[38;5;241m.\u001b[39mastype(\u001b[38;5;28mint\u001b[39m)\n\u001b[0;32m      3\u001b[0m plt\u001b[38;5;241m.\u001b[39mfigure(figsize\u001b[38;5;241m=\u001b[39m(\u001b[38;5;241m10\u001b[39m,\u001b[38;5;241m10\u001b[39m))\n\u001b[0;32m      4\u001b[0m px\u001b[38;5;241m.\u001b[39mimshow(genre )\n",
      "\u001b[1;31mNameError\u001b[0m: name 'df' is not defined"
     ]
    }
   ],
   "source": [
    "genre=df.pivot_table(index='Genre' ,columns='Year' ,values='Rating').fillna(0 ).astype(int)\n",
    "\n",
    "plt.figure(figsize=(10,10))\n",
    "px.imshow(genre )"
   ]
  },
  {
   "cell_type": "code",
   "execution_count": null,
   "id": "e1380e4f",
   "metadata": {},
   "outputs": [],
   "source": []
  }
 ],
 "metadata": {
  "kernelspec": {
   "display_name": "Python 3 (ipykernel)",
   "language": "python",
   "name": "python3"
  },
  "language_info": {
   "codemirror_mode": {
    "name": "ipython",
    "version": 3
   },
   "file_extension": ".py",
   "mimetype": "text/x-python",
   "name": "python",
   "nbconvert_exporter": "python",
   "pygments_lexer": "ipython3",
   "version": "3.11.9"
  }
 },
 "nbformat": 4,
 "nbformat_minor": 5
}
